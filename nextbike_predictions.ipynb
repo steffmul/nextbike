{
 "cells": [
  {
   "cell_type": "code",
   "execution_count": 98,
   "metadata": {},
   "outputs": [],
   "source": [
    "import pandas as pd\n",
    "from fbprophet import Prophet\n",
    "import matplotlib.pyplot as plt\n",
    "import seaborn as sns; sns.set()"
   ]
  },
  {
   "cell_type": "code",
   "execution_count": 99,
   "metadata": {},
   "outputs": [
    {
     "data": {
      "text/html": [
       "<div>\n",
       "<style scoped>\n",
       "    .dataframe tbody tr th:only-of-type {\n",
       "        vertical-align: middle;\n",
       "    }\n",
       "\n",
       "    .dataframe tbody tr th {\n",
       "        vertical-align: top;\n",
       "    }\n",
       "\n",
       "    .dataframe thead th {\n",
       "        text-align: right;\n",
       "    }\n",
       "</style>\n",
       "<table border=\"1\" class=\"dataframe\">\n",
       "  <thead>\n",
       "    <tr style=\"text-align: right;\">\n",
       "      <th></th>\n",
       "      <th>index</th>\n",
       "      <th>trip_id</th>\n",
       "      <th>bike_id</th>\n",
       "      <th>trip_duration</th>\n",
       "      <th>trip_start_time</th>\n",
       "      <th>trip_end_time</th>\n",
       "      <th>from_station</th>\n",
       "      <th>from_station_id</th>\n",
       "      <th>from_station_mode</th>\n",
       "      <th>from_lat</th>\n",
       "      <th>from_long</th>\n",
       "      <th>to_station</th>\n",
       "      <th>to_station_id</th>\n",
       "      <th>to_station_mode</th>\n",
       "      <th>to_lat</th>\n",
       "      <th>to_long</th>\n",
       "    </tr>\n",
       "  </thead>\n",
       "  <tbody>\n",
       "    <tr>\n",
       "      <th>11</th>\n",
       "      <td>998695</td>\n",
       "      <td>20190311011</td>\n",
       "      <td>13022</td>\n",
       "      <td>23</td>\n",
       "      <td>2019-03-11 16:39:41</td>\n",
       "      <td>2019-03-11 17:02:49</td>\n",
       "      <td>Karl-Marx Allee</td>\n",
       "      <td>1465</td>\n",
       "      <td>station</td>\n",
       "      <td>52.5173</td>\n",
       "      <td>13.4413</td>\n",
       "      <td>Oranienplatz</td>\n",
       "      <td>1445</td>\n",
       "      <td>station</td>\n",
       "      <td>52.502</td>\n",
       "      <td>13.4162</td>\n",
       "    </tr>\n",
       "    <tr>\n",
       "      <th>12</th>\n",
       "      <td>998707</td>\n",
       "      <td>20190311012</td>\n",
       "      <td>13022</td>\n",
       "      <td>13</td>\n",
       "      <td>2019-03-11 17:13:53</td>\n",
       "      <td>2019-03-11 17:26:57</td>\n",
       "      <td>Oranienplatz</td>\n",
       "      <td>1445</td>\n",
       "      <td>station</td>\n",
       "      <td>52.502</td>\n",
       "      <td>13.4162</td>\n",
       "      <td>Maybachufer</td>\n",
       "      <td>1589</td>\n",
       "      <td>station</td>\n",
       "      <td>52.4896</td>\n",
       "      <td>13.4391</td>\n",
       "    </tr>\n",
       "    <tr>\n",
       "      <th>14</th>\n",
       "      <td>922715</td>\n",
       "      <td>20190311014</td>\n",
       "      <td>13023</td>\n",
       "      <td>75</td>\n",
       "      <td>2019-03-11 08:47:44</td>\n",
       "      <td>2019-03-11 10:03:18</td>\n",
       "      <td>Helsingforser Platz</td>\n",
       "      <td>1458</td>\n",
       "      <td>station</td>\n",
       "      <td>52.5078</td>\n",
       "      <td>13.4496</td>\n",
       "      <td>BIKE 13023</td>\n",
       "      <td>0</td>\n",
       "      <td>floating</td>\n",
       "      <td>52.4862</td>\n",
       "      <td>13.3765</td>\n",
       "    </tr>\n",
       "    <tr>\n",
       "      <th>18</th>\n",
       "      <td>451393</td>\n",
       "      <td>20190311018</td>\n",
       "      <td>13026</td>\n",
       "      <td>11</td>\n",
       "      <td>2019-03-11 23:06:53</td>\n",
       "      <td>2019-03-11 23:17:57</td>\n",
       "      <td>BIKE 13026</td>\n",
       "      <td>0</td>\n",
       "      <td>floating</td>\n",
       "      <td>52.5473</td>\n",
       "      <td>13.4094</td>\n",
       "      <td>U Senefelder Platz</td>\n",
       "      <td>1543</td>\n",
       "      <td>station</td>\n",
       "      <td>52.5329</td>\n",
       "      <td>13.4124</td>\n",
       "    </tr>\n",
       "    <tr>\n",
       "      <th>20</th>\n",
       "      <td>888466</td>\n",
       "      <td>20190311020</td>\n",
       "      <td>13028</td>\n",
       "      <td>29</td>\n",
       "      <td>2019-03-11 09:04:53</td>\n",
       "      <td>2019-03-11 09:34:05</td>\n",
       "      <td>Sonnenallee/Innstraße</td>\n",
       "      <td>1609</td>\n",
       "      <td>station</td>\n",
       "      <td>52.4806</td>\n",
       "      <td>13.4428</td>\n",
       "      <td>BIKE 13028</td>\n",
       "      <td>0</td>\n",
       "      <td>floating</td>\n",
       "      <td>52.5015</td>\n",
       "      <td>13.4111</td>\n",
       "    </tr>\n",
       "  </tbody>\n",
       "</table>\n",
       "</div>"
      ],
      "text/plain": [
       "     index      trip_id bike_id trip_duration     trip_start_time  \\\n",
       "11  998695  20190311011   13022            23 2019-03-11 16:39:41   \n",
       "12  998707  20190311012   13022            13 2019-03-11 17:13:53   \n",
       "14  922715  20190311014   13023            75 2019-03-11 08:47:44   \n",
       "18  451393  20190311018   13026            11 2019-03-11 23:06:53   \n",
       "20  888466  20190311020   13028            29 2019-03-11 09:04:53   \n",
       "\n",
       "         trip_end_time           from_station from_station_id  \\\n",
       "11 2019-03-11 17:02:49        Karl-Marx Allee            1465   \n",
       "12 2019-03-11 17:26:57           Oranienplatz            1445   \n",
       "14 2019-03-11 10:03:18    Helsingforser Platz            1458   \n",
       "18 2019-03-11 23:17:57             BIKE 13026               0   \n",
       "20 2019-03-11 09:34:05  Sonnenallee/Innstraße            1609   \n",
       "\n",
       "   from_station_mode from_lat from_long          to_station to_station_id  \\\n",
       "11           station  52.5173   13.4413        Oranienplatz          1445   \n",
       "12           station   52.502   13.4162         Maybachufer          1589   \n",
       "14           station  52.5078   13.4496          BIKE 13023             0   \n",
       "18          floating  52.5473   13.4094  U Senefelder Platz          1543   \n",
       "20           station  52.4806   13.4428          BIKE 13028             0   \n",
       "\n",
       "   to_station_mode   to_lat  to_long  \n",
       "11         station   52.502  13.4162  \n",
       "12         station  52.4896  13.4391  \n",
       "14        floating  52.4862  13.3765  \n",
       "18         station  52.5329  13.4124  \n",
       "20        floating  52.5015  13.4111  "
      ]
     },
     "execution_count": 99,
     "metadata": {},
     "output_type": "execute_result"
    }
   ],
   "source": [
    "df = pd.read_pickle('all_trips.pkl')\n",
    "df.head()"
   ]
  },
  {
   "cell_type": "markdown",
   "metadata": {},
   "source": [
    "### Day of Week"
   ]
  },
  {
   "cell_type": "code",
   "execution_count": 100,
   "metadata": {},
   "outputs": [
    {
     "name": "stderr",
     "output_type": "stream",
     "text": [
      "c:\\users\\steff\\anaconda3\\envs\\tf\\lib\\site-packages\\seaborn\\axisgrid.py:715: UserWarning: Using the barplot function without specifying `order` is likely to produce an incorrect plot.\n",
      "  warnings.warn(warning)\n"
     ]
    },
    {
     "data": {
      "image/png": "[encoded data removed]",
      "text/plain": [
       "<Figure size 864x432 with 7 Axes>"
      ]
     },
     "metadata": {},
     "output_type": "display_data"
    }
   ],
   "source": [
    "df['dow'] = df.trip_start_time.dt.day_name()\n",
    "df['hour'] = df.trip_start_time.dt.hour\n",
    "ax  = sns.FacetGrid(data=df.groupby([\n",
    "    'dow',\n",
    "    'hour'\n",
    "]).hour.count().to_frame(name='day_hour_count').reset_index(), col='dow', col_order=[\n",
    "    'Monday',\n",
    "    'Tuesday',\n",
    "    'Wednesday',\n",
    "    'Thursday',\n",
    "    'Friday',\n",
    "    'Saturday',\n",
    "    'Sunday'\n",
    "], col_wrap=4)\n",
    "ax.map(sns.barplot, 'hour', 'day_hour_count');"
   ]
  },
  {
   "cell_type": "markdown",
   "metadata": {},
   "source": [
    "### Predict"
   ]
  },
  {
   "cell_type": "code",
   "execution_count": 101,
   "metadata": {},
   "outputs": [
    {
     "data": {
      "text/html": [
       "<div>\n",
       "<style scoped>\n",
       "    .dataframe tbody tr th:only-of-type {\n",
       "        vertical-align: middle;\n",
       "    }\n",
       "\n",
       "    .dataframe tbody tr th {\n",
       "        vertical-align: top;\n",
       "    }\n",
       "\n",
       "    .dataframe thead th {\n",
       "        text-align: right;\n",
       "    }\n",
       "</style>\n",
       "<table border=\"1\" class=\"dataframe\">\n",
       "  <thead>\n",
       "    <tr style=\"text-align: right;\">\n",
       "      <th></th>\n",
       "      <th>ds</th>\n",
       "      <th>y</th>\n",
       "    </tr>\n",
       "  </thead>\n",
       "  <tbody>\n",
       "    <tr>\n",
       "      <th>0</th>\n",
       "      <td>2019-03-11</td>\n",
       "      <td>313</td>\n",
       "    </tr>\n",
       "    <tr>\n",
       "      <th>1</th>\n",
       "      <td>2019-03-12</td>\n",
       "      <td>543</td>\n",
       "    </tr>\n",
       "    <tr>\n",
       "      <th>2</th>\n",
       "      <td>2019-03-13</td>\n",
       "      <td>566</td>\n",
       "    </tr>\n",
       "    <tr>\n",
       "      <th>3</th>\n",
       "      <td>2019-03-14</td>\n",
       "      <td>439</td>\n",
       "    </tr>\n",
       "    <tr>\n",
       "      <th>4</th>\n",
       "      <td>2019-03-15</td>\n",
       "      <td>513</td>\n",
       "    </tr>\n",
       "  </tbody>\n",
       "</table>\n",
       "</div>"
      ],
      "text/plain": [
       "          ds    y\n",
       "0 2019-03-11  313\n",
       "1 2019-03-12  543\n",
       "2 2019-03-13  566\n",
       "3 2019-03-14  439\n",
       "4 2019-03-15  513"
      ]
     },
     "execution_count": 101,
     "metadata": {},
     "output_type": "execute_result"
    }
   ],
   "source": [
    "daily = df.set_index('trip_start_time').groupby(pd.Grouper(freq='D')).size()\n",
    "daily = pd.DataFrame(daily)\n",
    "daily = daily.reset_index()\n",
    "daily.columns = ['ds', 'y']\n",
    "daily.head()"
   ]
  },
  {
   "cell_type": "code",
   "execution_count": 102,
   "metadata": {},
   "outputs": [
    {
     "name": "stderr",
     "output_type": "stream",
     "text": [
      "c:\\users\\steff\\anaconda3\\envs\\tf\\lib\\site-packages\\fbprophet\\forecaster.py:880: FutureWarning: Series.nonzero() is deprecated and will be removed in a future version.Use Series.to_numpy().nonzero() instead\n",
      "  min_dt = dt.iloc[dt.nonzero()[0]].min()\n",
      "INFO:fbprophet:Disabling yearly seasonality. Run prophet with yearly_seasonality=True to override this.\n",
      "INFO:fbprophet:Disabling daily seasonality. Run prophet with daily_seasonality=True to override this.\n",
      "INFO:fbprophet:n_changepoints greater than number of observations.Using 11.0.\n",
      "c:\\users\\steff\\anaconda3\\envs\\tf\\lib\\site-packages\\pystan\\misc.py:399: FutureWarning: Conversion of the second argument of issubdtype from `float` to `np.floating` is deprecated. In future, it will be treated as `np.float64 == np.dtype(float).type`.\n",
      "  elif np.issubdtype(np.asarray(v).dtype, float):\n"
     ]
    },
    {
     "data": {
      "text/plain": [
       "<fbprophet.forecaster.Prophet at 0x1ae0452be80>"
      ]
     },
     "execution_count": 102,
     "metadata": {},
     "output_type": "execute_result"
    }
   ],
   "source": [
    "m = Prophet()\n",
    "m.fit(daily)"
   ]
  },
  {
   "cell_type": "code",
   "execution_count": 103,
   "metadata": {},
   "outputs": [
    {
     "data": {
      "text/html": [
       "<div>\n",
       "<style scoped>\n",
       "    .dataframe tbody tr th:only-of-type {\n",
       "        vertical-align: middle;\n",
       "    }\n",
       "\n",
       "    .dataframe tbody tr th {\n",
       "        vertical-align: top;\n",
       "    }\n",
       "\n",
       "    .dataframe thead th {\n",
       "        text-align: right;\n",
       "    }\n",
       "</style>\n",
       "<table border=\"1\" class=\"dataframe\">\n",
       "  <thead>\n",
       "    <tr style=\"text-align: right;\">\n",
       "      <th></th>\n",
       "      <th>ds</th>\n",
       "    </tr>\n",
       "  </thead>\n",
       "  <tbody>\n",
       "    <tr>\n",
       "      <th>16</th>\n",
       "      <td>2019-03-27</td>\n",
       "    </tr>\n",
       "    <tr>\n",
       "      <th>17</th>\n",
       "      <td>2019-03-28</td>\n",
       "    </tr>\n",
       "    <tr>\n",
       "      <th>18</th>\n",
       "      <td>2019-03-29</td>\n",
       "    </tr>\n",
       "    <tr>\n",
       "      <th>19</th>\n",
       "      <td>2019-03-30</td>\n",
       "    </tr>\n",
       "    <tr>\n",
       "      <th>20</th>\n",
       "      <td>2019-03-31</td>\n",
       "    </tr>\n",
       "  </tbody>\n",
       "</table>\n",
       "</div>"
      ],
      "text/plain": [
       "           ds\n",
       "16 2019-03-27\n",
       "17 2019-03-28\n",
       "18 2019-03-29\n",
       "19 2019-03-30\n",
       "20 2019-03-31"
      ]
     },
     "execution_count": 103,
     "metadata": {},
     "output_type": "execute_result"
    }
   ],
   "source": [
    "future = m.make_future_dataframe(periods=5)\n",
    "future.tail()"
   ]
  },
  {
   "cell_type": "code",
   "execution_count": 104,
   "metadata": {},
   "outputs": [],
   "source": [
    "forecast = m.predict(future)\n",
    "forecast[['ds', 'yhat', 'yhat_lower', 'yhat_upper']].tail()\n",
    "forecast.to_pickle('forecast.pkl')"
   ]
  },
  {
   "cell_type": "code",
   "execution_count": 105,
   "metadata": {},
   "outputs": [
    {
     "data": {
      "image/png": "[encoded data removed]",
      "text/plain": [
       "<Figure size 720x432 with 1 Axes>"
      ]
     },
     "metadata": {},
     "output_type": "display_data"
    }
   ],
   "source": [
    "fig1 = m.plot(forecast)"
   ]
  },
  {
   "cell_type": "markdown",
   "metadata": {},
   "source": [
    "### Hourly"
   ]
  },
  {
   "cell_type": "code",
   "execution_count": 124,
   "metadata": {},
   "outputs": [
    {
     "data": {
      "text/html": [
       "<div>\n",
       "<style scoped>\n",
       "    .dataframe tbody tr th:only-of-type {\n",
       "        vertical-align: middle;\n",
       "    }\n",
       "\n",
       "    .dataframe tbody tr th {\n",
       "        vertical-align: top;\n",
       "    }\n",
       "\n",
       "    .dataframe thead th {\n",
       "        text-align: right;\n",
       "    }\n",
       "</style>\n",
       "<table border=\"1\" class=\"dataframe\">\n",
       "  <thead>\n",
       "    <tr style=\"text-align: right;\">\n",
       "      <th></th>\n",
       "      <th>ds</th>\n",
       "      <th>y</th>\n",
       "    </tr>\n",
       "  </thead>\n",
       "  <tbody>\n",
       "    <tr>\n",
       "      <th>0</th>\n",
       "      <td>2019-03-11 08:00:00</td>\n",
       "      <td>47</td>\n",
       "    </tr>\n",
       "    <tr>\n",
       "      <th>1</th>\n",
       "      <td>2019-03-11 10:00:00</td>\n",
       "      <td>40</td>\n",
       "    </tr>\n",
       "    <tr>\n",
       "      <th>2</th>\n",
       "      <td>2019-03-11 12:00:00</td>\n",
       "      <td>25</td>\n",
       "    </tr>\n",
       "    <tr>\n",
       "      <th>3</th>\n",
       "      <td>2019-03-11 14:00:00</td>\n",
       "      <td>42</td>\n",
       "    </tr>\n",
       "    <tr>\n",
       "      <th>4</th>\n",
       "      <td>2019-03-11 16:00:00</td>\n",
       "      <td>80</td>\n",
       "    </tr>\n",
       "  </tbody>\n",
       "</table>\n",
       "</div>"
      ],
      "text/plain": [
       "                   ds   y\n",
       "0 2019-03-11 08:00:00  47\n",
       "1 2019-03-11 10:00:00  40\n",
       "2 2019-03-11 12:00:00  25\n",
       "3 2019-03-11 14:00:00  42\n",
       "4 2019-03-11 16:00:00  80"
      ]
     },
     "execution_count": 124,
     "metadata": {},
     "output_type": "execute_result"
    }
   ],
   "source": [
    "hourly = df.set_index('trip_start_time').groupby(pd.Grouper(freq='2h')).size()\n",
    "hourly = pd.DataFrame(hourly)\n",
    "hourly = hourly.reset_index()\n",
    "hourly.columns = ['ds', 'y']\n",
    "hourly.head()"
   ]
  },
  {
   "cell_type": "code",
   "execution_count": 125,
   "metadata": {},
   "outputs": [
    {
     "name": "stderr",
     "output_type": "stream",
     "text": [
      "c:\\users\\steff\\anaconda3\\envs\\tf\\lib\\site-packages\\fbprophet\\forecaster.py:880: FutureWarning: Series.nonzero() is deprecated and will be removed in a future version.Use Series.to_numpy().nonzero() instead\n",
      "  min_dt = dt.iloc[dt.nonzero()[0]].min()\n",
      "INFO:fbprophet:Disabling yearly seasonality. Run prophet with yearly_seasonality=True to override this.\n",
      "c:\\users\\steff\\anaconda3\\envs\\tf\\lib\\site-packages\\pystan\\misc.py:399: FutureWarning: Conversion of the second argument of issubdtype from `float` to `np.floating` is deprecated. In future, it will be treated as `np.float64 == np.dtype(float).type`.\n",
      "  elif np.issubdtype(np.asarray(v).dtype, float):\n"
     ]
    },
    {
     "data": {
      "text/plain": [
       "<fbprophet.forecaster.Prophet at 0x1ae03b4e198>"
      ]
     },
     "execution_count": 125,
     "metadata": {},
     "output_type": "execute_result"
    }
   ],
   "source": [
    "mh = Prophet()\n",
    "mh.fit(hourly)"
   ]
  },
  {
   "cell_type": "code",
   "execution_count": 126,
   "metadata": {},
   "outputs": [
    {
     "data": {
      "text/html": [
       "<div>\n",
       "<style scoped>\n",
       "    .dataframe tbody tr th:only-of-type {\n",
       "        vertical-align: middle;\n",
       "    }\n",
       "\n",
       "    .dataframe tbody tr th {\n",
       "        vertical-align: top;\n",
       "    }\n",
       "\n",
       "    .dataframe thead th {\n",
       "        text-align: right;\n",
       "    }\n",
       "</style>\n",
       "<table border=\"1\" class=\"dataframe\">\n",
       "  <thead>\n",
       "    <tr style=\"text-align: right;\">\n",
       "      <th></th>\n",
       "      <th>ds</th>\n",
       "    </tr>\n",
       "  </thead>\n",
       "  <tbody>\n",
       "    <tr>\n",
       "      <th>303</th>\n",
       "      <td>2019-07-20 22:00:00</td>\n",
       "    </tr>\n",
       "    <tr>\n",
       "      <th>304</th>\n",
       "      <td>2019-07-21 22:00:00</td>\n",
       "    </tr>\n",
       "    <tr>\n",
       "      <th>305</th>\n",
       "      <td>2019-07-22 22:00:00</td>\n",
       "    </tr>\n",
       "    <tr>\n",
       "      <th>306</th>\n",
       "      <td>2019-07-23 22:00:00</td>\n",
       "    </tr>\n",
       "    <tr>\n",
       "      <th>307</th>\n",
       "      <td>2019-07-24 22:00:00</td>\n",
       "    </tr>\n",
       "  </tbody>\n",
       "</table>\n",
       "</div>"
      ],
      "text/plain": [
       "                     ds\n",
       "303 2019-07-20 22:00:00\n",
       "304 2019-07-21 22:00:00\n",
       "305 2019-07-22 22:00:00\n",
       "306 2019-07-23 22:00:00\n",
       "307 2019-07-24 22:00:00"
      ]
     },
     "execution_count": 126,
     "metadata": {},
     "output_type": "execute_result"
    }
   ],
   "source": [
    "futureh = mh.make_future_dataframe(periods=120)\n",
    "futureh.tail()"
   ]
  },
  {
   "cell_type": "code",
   "execution_count": 127,
   "metadata": {},
   "outputs": [
    {
     "data": {
      "text/html": [
       "<div>\n",
       "<style scoped>\n",
       "    .dataframe tbody tr th:only-of-type {\n",
       "        vertical-align: middle;\n",
       "    }\n",
       "\n",
       "    .dataframe tbody tr th {\n",
       "        vertical-align: top;\n",
       "    }\n",
       "\n",
       "    .dataframe thead th {\n",
       "        text-align: right;\n",
       "    }\n",
       "</style>\n",
       "<table border=\"1\" class=\"dataframe\">\n",
       "  <thead>\n",
       "    <tr style=\"text-align: right;\">\n",
       "      <th></th>\n",
       "      <th>ds</th>\n",
       "      <th>yhat</th>\n",
       "      <th>yhat_lower</th>\n",
       "      <th>yhat_upper</th>\n",
       "    </tr>\n",
       "  </thead>\n",
       "  <tbody>\n",
       "    <tr>\n",
       "      <th>16</th>\n",
       "      <td>2019-03-27</td>\n",
       "      <td>39.381837</td>\n",
       "      <td>-1.277709</td>\n",
       "      <td>78.241586</td>\n",
       "    </tr>\n",
       "    <tr>\n",
       "      <th>17</th>\n",
       "      <td>2019-03-28</td>\n",
       "      <td>41.561484</td>\n",
       "      <td>1.236218</td>\n",
       "      <td>80.729866</td>\n",
       "    </tr>\n",
       "    <tr>\n",
       "      <th>18</th>\n",
       "      <td>2019-03-29</td>\n",
       "      <td>37.720070</td>\n",
       "      <td>-0.068566</td>\n",
       "      <td>78.134474</td>\n",
       "    </tr>\n",
       "    <tr>\n",
       "      <th>19</th>\n",
       "      <td>2019-03-30</td>\n",
       "      <td>41.450081</td>\n",
       "      <td>3.738703</td>\n",
       "      <td>79.512384</td>\n",
       "    </tr>\n",
       "    <tr>\n",
       "      <th>20</th>\n",
       "      <td>2019-03-31</td>\n",
       "      <td>42.410231</td>\n",
       "      <td>6.704974</td>\n",
       "      <td>80.977459</td>\n",
       "    </tr>\n",
       "  </tbody>\n",
       "</table>\n",
       "</div>"
      ],
      "text/plain": [
       "           ds       yhat  yhat_lower  yhat_upper\n",
       "16 2019-03-27  39.381837   -1.277709   78.241586\n",
       "17 2019-03-28  41.561484    1.236218   80.729866\n",
       "18 2019-03-29  37.720070   -0.068566   78.134474\n",
       "19 2019-03-30  41.450081    3.738703   79.512384\n",
       "20 2019-03-31  42.410231    6.704974   80.977459"
      ]
     },
     "execution_count": 127,
     "metadata": {},
     "output_type": "execute_result"
    }
   ],
   "source": [
    "forecasth = mh.predict(future)\n",
    "forecasth[['ds', 'yhat', 'yhat_lower', 'yhat_upper']].tail()"
   ]
  },
  {
   "cell_type": "code",
   "execution_count": 128,
   "metadata": {},
   "outputs": [],
   "source": [
    "forecasth.to_pickle('forecast_hourly.pkl')"
   ]
  },
  {
   "cell_type": "code",
   "execution_count": 129,
   "metadata": {},
   "outputs": [
    {
     "data": {
      "image/png": "[encoded data removed]",
      "text/plain": [
       "<Figure size 720x432 with 1 Axes>"
      ]
     },
     "metadata": {},
     "output_type": "display_data"
    }
   ],
   "source": [
    "figh = mh.plot(forecasth)"
   ]
  },
  {
   "cell_type": "code",
   "execution_count": null,
   "metadata": {},
   "outputs": [],
   "source": []
  },
  {
   "cell_type": "code",
   "execution_count": null,
   "metadata": {},
   "outputs": [],
   "source": []
  }
 ],
 "metadata": {
  "kernelspec": {
   "display_name": "Python 3",
   "language": "python",
   "name": "python3"
  },
  "language_info": {
   "codemirror_mode": {
    "name": "ipython",
    "version": 3
   },
   "file_extension": ".py",
   "mimetype": "text/x-python",
   "name": "python",
   "nbconvert_exporter": "python",
   "pygments_lexer": "ipython3",
   "version": "3.6.7"
  }
 },
 "nbformat": 4,
 "nbformat_minor": 2
}
