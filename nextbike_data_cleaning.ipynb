{
 "cells": [
  {
   "cell_type": "code",
   "execution_count": 1,
   "metadata": {},
   "outputs": [],
   "source": [
    "import os\n",
    "import glob\n",
    "import pandas as pd\n",
    "import numpy as np\n",
    "import seaborn as sns"
   ]
  },
  {
   "cell_type": "code",
   "execution_count": 2,
   "metadata": {},
   "outputs": [],
   "source": [
    "path = (r\"C:\\Users\\steff\\Documents\\DataScience Bootcamp\\Bike\\trips\")\n",
    "allFiles = glob.glob(os.path.join(path,\"*.csv\"))"
   ]
  },
  {
   "cell_type": "code",
   "execution_count": 3,
   "metadata": {},
   "outputs": [],
   "source": [
    "np_array_list = []\n",
    "for file_ in allFiles:\n",
    "    df = pd.read_csv(file_,index_col=None, header=0)\n",
    "    np_array_list.append(df.values)\n",
    "\n",
    "comb_np_array = np.vstack(np_array_list)\n",
    "all_trips = pd.DataFrame(comb_np_array)\n",
    "\n",
    "all_trips.columns = ['index','trip_id','bike_id','trip_duration','trip_start_time','trip_end_time',\n",
    "         'from_station','from_station_id','from_station_mode','from_lat','from_long',\n",
    "         'to_station','to_station_id','to_station_mode','to_lat','to_long' ]"
   ]
  },
  {
   "cell_type": "code",
   "execution_count": 4,
   "metadata": {},
   "outputs": [],
   "source": [
    "# remove NaN and negative trip size\n",
    "all_trips = all_trips.dropna(subset=['trip_duration'])\n",
    "all_trips['trip_start_time'] = pd.to_datetime(all_trips['trip_start_time'])\n",
    "all_trips['trip_end_time'] = pd.to_datetime(all_trips['trip_end_time'])"
   ]
  },
  {
   "cell_type": "code",
   "execution_count": 5,
   "metadata": {},
   "outputs": [
    {
     "data": {
      "text/plain": [
       "(9728, 16)"
      ]
     },
     "execution_count": 5,
     "metadata": {},
     "output_type": "execute_result"
    }
   ],
   "source": [
    "all_trips = all_trips[all_trips['trip_duration'].between(1, 1440, inclusive=True)]\n",
    "df['trip_id'] = np.arange(10000, 10000+len(df.index), 1)\n",
    "all_trips.to_pickle('all_trips.pkl')\n",
    "all_trips.shape"
   ]
  },
  {
   "cell_type": "code",
   "execution_count": 6,
   "metadata": {},
   "outputs": [
    {
     "data": {
      "text/html": [
       "<div>\n",
       "<style scoped>\n",
       "    .dataframe tbody tr th:only-of-type {\n",
       "        vertical-align: middle;\n",
       "    }\n",
       "\n",
       "    .dataframe tbody tr th {\n",
       "        vertical-align: top;\n",
       "    }\n",
       "\n",
       "    .dataframe thead th {\n",
       "        text-align: right;\n",
       "    }\n",
       "</style>\n",
       "<table border=\"1\" class=\"dataframe\">\n",
       "  <thead>\n",
       "    <tr style=\"text-align: right;\">\n",
       "      <th></th>\n",
       "      <th>index</th>\n",
       "      <th>trip_id</th>\n",
       "      <th>bike_id</th>\n",
       "      <th>trip_duration</th>\n",
       "      <th>trip_start_time</th>\n",
       "      <th>trip_end_time</th>\n",
       "      <th>from_station</th>\n",
       "      <th>from_station_id</th>\n",
       "      <th>from_station_mode</th>\n",
       "      <th>from_lat</th>\n",
       "      <th>from_long</th>\n",
       "      <th>to_station</th>\n",
       "      <th>to_station_id</th>\n",
       "      <th>to_station_mode</th>\n",
       "      <th>to_lat</th>\n",
       "      <th>to_long</th>\n",
       "    </tr>\n",
       "  </thead>\n",
       "  <tbody>\n",
       "    <tr>\n",
       "      <th>11</th>\n",
       "      <td>998695</td>\n",
       "      <td>20190311011</td>\n",
       "      <td>13022</td>\n",
       "      <td>23</td>\n",
       "      <td>2019-03-11 16:39:41</td>\n",
       "      <td>2019-03-11 17:02:49</td>\n",
       "      <td>Karl-Marx Allee</td>\n",
       "      <td>1465</td>\n",
       "      <td>station</td>\n",
       "      <td>52.5173</td>\n",
       "      <td>13.4413</td>\n",
       "      <td>Oranienplatz</td>\n",
       "      <td>1445</td>\n",
       "      <td>station</td>\n",
       "      <td>52.502</td>\n",
       "      <td>13.4162</td>\n",
       "    </tr>\n",
       "    <tr>\n",
       "      <th>12</th>\n",
       "      <td>998707</td>\n",
       "      <td>20190311012</td>\n",
       "      <td>13022</td>\n",
       "      <td>13</td>\n",
       "      <td>2019-03-11 17:13:53</td>\n",
       "      <td>2019-03-11 17:26:57</td>\n",
       "      <td>Oranienplatz</td>\n",
       "      <td>1445</td>\n",
       "      <td>station</td>\n",
       "      <td>52.502</td>\n",
       "      <td>13.4162</td>\n",
       "      <td>Maybachufer</td>\n",
       "      <td>1589</td>\n",
       "      <td>station</td>\n",
       "      <td>52.4896</td>\n",
       "      <td>13.4391</td>\n",
       "    </tr>\n",
       "    <tr>\n",
       "      <th>14</th>\n",
       "      <td>922715</td>\n",
       "      <td>20190311014</td>\n",
       "      <td>13023</td>\n",
       "      <td>75</td>\n",
       "      <td>2019-03-11 08:47:44</td>\n",
       "      <td>2019-03-11 10:03:18</td>\n",
       "      <td>Helsingforser Platz</td>\n",
       "      <td>1458</td>\n",
       "      <td>station</td>\n",
       "      <td>52.5078</td>\n",
       "      <td>13.4496</td>\n",
       "      <td>BIKE 13023</td>\n",
       "      <td>0</td>\n",
       "      <td>floating</td>\n",
       "      <td>52.4862</td>\n",
       "      <td>13.3765</td>\n",
       "    </tr>\n",
       "    <tr>\n",
       "      <th>18</th>\n",
       "      <td>451393</td>\n",
       "      <td>20190311018</td>\n",
       "      <td>13026</td>\n",
       "      <td>11</td>\n",
       "      <td>2019-03-11 23:06:53</td>\n",
       "      <td>2019-03-11 23:17:57</td>\n",
       "      <td>BIKE 13026</td>\n",
       "      <td>0</td>\n",
       "      <td>floating</td>\n",
       "      <td>52.5473</td>\n",
       "      <td>13.4094</td>\n",
       "      <td>U Senefelder Platz</td>\n",
       "      <td>1543</td>\n",
       "      <td>station</td>\n",
       "      <td>52.5329</td>\n",
       "      <td>13.4124</td>\n",
       "    </tr>\n",
       "    <tr>\n",
       "      <th>20</th>\n",
       "      <td>888466</td>\n",
       "      <td>20190311020</td>\n",
       "      <td>13028</td>\n",
       "      <td>29</td>\n",
       "      <td>2019-03-11 09:04:53</td>\n",
       "      <td>2019-03-11 09:34:05</td>\n",
       "      <td>Sonnenallee/Innstraße</td>\n",
       "      <td>1609</td>\n",
       "      <td>station</td>\n",
       "      <td>52.4806</td>\n",
       "      <td>13.4428</td>\n",
       "      <td>BIKE 13028</td>\n",
       "      <td>0</td>\n",
       "      <td>floating</td>\n",
       "      <td>52.5015</td>\n",
       "      <td>13.4111</td>\n",
       "    </tr>\n",
       "  </tbody>\n",
       "</table>\n",
       "</div>"
      ],
      "text/plain": [
       "     index      trip_id bike_id trip_duration     trip_start_time  \\\n",
       "11  998695  20190311011   13022            23 2019-03-11 16:39:41   \n",
       "12  998707  20190311012   13022            13 2019-03-11 17:13:53   \n",
       "14  922715  20190311014   13023            75 2019-03-11 08:47:44   \n",
       "18  451393  20190311018   13026            11 2019-03-11 23:06:53   \n",
       "20  888466  20190311020   13028            29 2019-03-11 09:04:53   \n",
       "\n",
       "         trip_end_time           from_station from_station_id  \\\n",
       "11 2019-03-11 17:02:49        Karl-Marx Allee            1465   \n",
       "12 2019-03-11 17:26:57           Oranienplatz            1445   \n",
       "14 2019-03-11 10:03:18    Helsingforser Platz            1458   \n",
       "18 2019-03-11 23:17:57             BIKE 13026               0   \n",
       "20 2019-03-11 09:34:05  Sonnenallee/Innstraße            1609   \n",
       "\n",
       "   from_station_mode from_lat from_long          to_station to_station_id  \\\n",
       "11           station  52.5173   13.4413        Oranienplatz          1445   \n",
       "12           station   52.502   13.4162         Maybachufer          1589   \n",
       "14           station  52.5078   13.4496          BIKE 13023             0   \n",
       "18          floating  52.5473   13.4094  U Senefelder Platz          1543   \n",
       "20           station  52.4806   13.4428          BIKE 13028             0   \n",
       "\n",
       "   to_station_mode   to_lat  to_long  \n",
       "11         station   52.502  13.4162  \n",
       "12         station  52.4896  13.4391  \n",
       "14        floating  52.4862  13.3765  \n",
       "18         station  52.5329  13.4124  \n",
       "20        floating  52.5015  13.4111  "
      ]
     },
     "execution_count": 6,
     "metadata": {},
     "output_type": "execute_result"
    }
   ],
   "source": [
    "all_trips.head()"
   ]
  },
  {
   "cell_type": "code",
   "execution_count": 7,
   "metadata": {},
   "outputs": [
    {
     "data": {
      "text/plain": [
       "trip_end_time\n",
       "2019-03-11    313\n",
       "2019-03-12    543\n",
       "2019-03-13    566\n",
       "2019-03-14    439\n",
       "2019-03-15    513\n",
       "2019-03-16    377\n",
       "2019-03-17    387\n",
       "2019-03-18    494\n",
       "2019-03-19    574\n",
       "2019-03-20    732\n",
       "2019-03-21    700\n",
       "2019-03-22    726\n",
       "2019-03-23    883\n",
       "2019-03-24    813\n",
       "2019-03-25    529\n",
       "2019-03-26    545\n",
       "2019-03-27    594\n",
       "Name: trip_id, dtype: int64"
      ]
     },
     "execution_count": 7,
     "metadata": {},
     "output_type": "execute_result"
    }
   ],
   "source": [
    "all_trips.groupby([all_trips['trip_end_time'].dt.date])['trip_id'].size()"
   ]
  },
  {
   "cell_type": "code",
   "execution_count": null,
   "metadata": {},
   "outputs": [],
   "source": []
  }
 ],
 "metadata": {
  "kernelspec": {
   "display_name": "Python 3",
   "language": "python",
   "name": "python3"
  },
  "language_info": {
   "codemirror_mode": {
    "name": "ipython",
    "version": 3
   },
   "file_extension": ".py",
   "mimetype": "text/x-python",
   "name": "python",
   "nbconvert_exporter": "python",
   "pygments_lexer": "ipython3",
   "version": "3.6.7"
  }
 },
 "nbformat": 4,
 "nbformat_minor": 2
}
