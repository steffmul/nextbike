{
 "cells": [
  {
   "cell_type": "code",
   "execution_count": 139,
   "metadata": {},
   "outputs": [],
   "source": [
    "import folium, json, requests, glob, os, imageio\n",
    "from folium import plugins\n",
    "import pandas as pd\n",
    "import numpy as np\n",
    "from scipy.spatial import ConvexHull\n",
    "import selenium.webdriver\n",
    "from datetime import datetime"
   ]
  },
  {
   "cell_type": "code",
   "execution_count": 3,
   "metadata": {},
   "outputs": [],
   "source": [
    "def make_base_map(custom_map):\n",
    "    custom_map = folium.Map(location=[52.510008, 13.404954],\n",
    "                    zoom_start=12)\n",
    "    return custom_map"
   ]
  },
  {
   "cell_type": "code",
   "execution_count": 4,
   "metadata": {},
   "outputs": [],
   "source": [
    "def add_flexzone(custom_map):\n",
    "    with open(r'C:\\Users\\steff\\Documents\\DataScience Bootcamp\\Bike\\geo\\flexzone_bn.json') as f:\n",
    "        bln_zone = json.load(f)\n",
    "    # add the polgon of the berlin flexzone\n",
    "    folium.GeoJson(\n",
    "            bln_zone,\n",
    "            name='geojson'\n",
    "            ).add_to(custom_map)\n",
    "    return custom_map"
   ]
  },
  {
   "cell_type": "code",
   "execution_count": 5,
   "metadata": {},
   "outputs": [],
   "source": [
    "bikemap = add_flexzone(make_base_map('bikemap'))"
   ]
  },
  {
   "cell_type": "code",
   "execution_count": 11,
   "metadata": {
    "scrolled": true
   },
   "outputs": [
    {
     "data": {
      "text/html": [
       "<div>\n",
       "<style scoped>\n",
       "    .dataframe tbody tr th:only-of-type {\n",
       "        vertical-align: middle;\n",
       "    }\n",
       "\n",
       "    .dataframe tbody tr th {\n",
       "        vertical-align: top;\n",
       "    }\n",
       "\n",
       "    .dataframe thead th {\n",
       "        text-align: right;\n",
       "    }\n",
       "</style>\n",
       "<table border=\"1\" class=\"dataframe\">\n",
       "  <thead>\n",
       "    <tr style=\"text-align: right;\">\n",
       "      <th></th>\n",
       "      <th>index</th>\n",
       "      <th>trip_id</th>\n",
       "      <th>bike_id</th>\n",
       "      <th>trip_duration</th>\n",
       "      <th>trip_start_time</th>\n",
       "      <th>trip_end_time</th>\n",
       "      <th>from_station</th>\n",
       "      <th>from_station_id</th>\n",
       "      <th>from_station_mode</th>\n",
       "      <th>from_lat</th>\n",
       "      <th>from_long</th>\n",
       "      <th>to_station</th>\n",
       "      <th>to_station_id</th>\n",
       "      <th>to_station_mode</th>\n",
       "      <th>to_lat</th>\n",
       "      <th>to_long</th>\n",
       "      <th>date_hour</th>\n",
       "    </tr>\n",
       "  </thead>\n",
       "  <tbody>\n",
       "    <tr>\n",
       "      <th>11</th>\n",
       "      <td>998695</td>\n",
       "      <td>20190311011</td>\n",
       "      <td>13022</td>\n",
       "      <td>23</td>\n",
       "      <td>2019-03-11 16:39:41</td>\n",
       "      <td>2019-03-11 17:02:49</td>\n",
       "      <td>Karl-Marx Allee</td>\n",
       "      <td>1465</td>\n",
       "      <td>station</td>\n",
       "      <td>52.5173</td>\n",
       "      <td>13.4413</td>\n",
       "      <td>Oranienplatz</td>\n",
       "      <td>1445</td>\n",
       "      <td>station</td>\n",
       "      <td>52.502</td>\n",
       "      <td>13.4162</td>\n",
       "      <td>2019-03-11 17:00:00</td>\n",
       "    </tr>\n",
       "    <tr>\n",
       "      <th>12</th>\n",
       "      <td>998707</td>\n",
       "      <td>20190311012</td>\n",
       "      <td>13022</td>\n",
       "      <td>13</td>\n",
       "      <td>2019-03-11 17:13:53</td>\n",
       "      <td>2019-03-11 17:26:57</td>\n",
       "      <td>Oranienplatz</td>\n",
       "      <td>1445</td>\n",
       "      <td>station</td>\n",
       "      <td>52.502</td>\n",
       "      <td>13.4162</td>\n",
       "      <td>Maybachufer</td>\n",
       "      <td>1589</td>\n",
       "      <td>station</td>\n",
       "      <td>52.4896</td>\n",
       "      <td>13.4391</td>\n",
       "      <td>2019-03-11 17:00:00</td>\n",
       "    </tr>\n",
       "    <tr>\n",
       "      <th>14</th>\n",
       "      <td>922715</td>\n",
       "      <td>20190311014</td>\n",
       "      <td>13023</td>\n",
       "      <td>75</td>\n",
       "      <td>2019-03-11 08:47:44</td>\n",
       "      <td>2019-03-11 10:03:18</td>\n",
       "      <td>Helsingforser Platz</td>\n",
       "      <td>1458</td>\n",
       "      <td>station</td>\n",
       "      <td>52.5078</td>\n",
       "      <td>13.4496</td>\n",
       "      <td>BIKE 13023</td>\n",
       "      <td>0</td>\n",
       "      <td>floating</td>\n",
       "      <td>52.4862</td>\n",
       "      <td>13.3765</td>\n",
       "      <td>2019-03-11 09:00:00</td>\n",
       "    </tr>\n",
       "    <tr>\n",
       "      <th>18</th>\n",
       "      <td>451393</td>\n",
       "      <td>20190311018</td>\n",
       "      <td>13026</td>\n",
       "      <td>11</td>\n",
       "      <td>2019-03-11 23:06:53</td>\n",
       "      <td>2019-03-11 23:17:57</td>\n",
       "      <td>BIKE 13026</td>\n",
       "      <td>0</td>\n",
       "      <td>floating</td>\n",
       "      <td>52.5473</td>\n",
       "      <td>13.4094</td>\n",
       "      <td>U Senefelder Platz</td>\n",
       "      <td>1543</td>\n",
       "      <td>station</td>\n",
       "      <td>52.5329</td>\n",
       "      <td>13.4124</td>\n",
       "      <td>2019-03-11 23:00:00</td>\n",
       "    </tr>\n",
       "    <tr>\n",
       "      <th>20</th>\n",
       "      <td>888466</td>\n",
       "      <td>20190311020</td>\n",
       "      <td>13028</td>\n",
       "      <td>29</td>\n",
       "      <td>2019-03-11 09:04:53</td>\n",
       "      <td>2019-03-11 09:34:05</td>\n",
       "      <td>Sonnenallee/Innstraße</td>\n",
       "      <td>1609</td>\n",
       "      <td>station</td>\n",
       "      <td>52.4806</td>\n",
       "      <td>13.4428</td>\n",
       "      <td>BIKE 13028</td>\n",
       "      <td>0</td>\n",
       "      <td>floating</td>\n",
       "      <td>52.5015</td>\n",
       "      <td>13.4111</td>\n",
       "      <td>2019-03-11 09:00:00</td>\n",
       "    </tr>\n",
       "  </tbody>\n",
       "</table>\n",
       "</div>"
      ],
      "text/plain": [
       "     index      trip_id bike_id trip_duration     trip_start_time  \\\n",
       "11  998695  20190311011   13022            23 2019-03-11 16:39:41   \n",
       "12  998707  20190311012   13022            13 2019-03-11 17:13:53   \n",
       "14  922715  20190311014   13023            75 2019-03-11 08:47:44   \n",
       "18  451393  20190311018   13026            11 2019-03-11 23:06:53   \n",
       "20  888466  20190311020   13028            29 2019-03-11 09:04:53   \n",
       "\n",
       "         trip_end_time           from_station from_station_id  \\\n",
       "11 2019-03-11 17:02:49        Karl-Marx Allee            1465   \n",
       "12 2019-03-11 17:26:57           Oranienplatz            1445   \n",
       "14 2019-03-11 10:03:18    Helsingforser Platz            1458   \n",
       "18 2019-03-11 23:17:57             BIKE 13026               0   \n",
       "20 2019-03-11 09:34:05  Sonnenallee/Innstraße            1609   \n",
       "\n",
       "   from_station_mode from_lat from_long          to_station to_station_id  \\\n",
       "11           station  52.5173   13.4413        Oranienplatz          1445   \n",
       "12           station   52.502   13.4162         Maybachufer          1589   \n",
       "14           station  52.5078   13.4496          BIKE 13023             0   \n",
       "18          floating  52.5473   13.4094  U Senefelder Platz          1543   \n",
       "20           station  52.4806   13.4428          BIKE 13028             0   \n",
       "\n",
       "   to_station_mode   to_lat  to_long           date_hour  \n",
       "11         station   52.502  13.4162 2019-03-11 17:00:00  \n",
       "12         station  52.4896  13.4391 2019-03-11 17:00:00  \n",
       "14        floating  52.4862  13.3765 2019-03-11 09:00:00  \n",
       "18         station  52.5329  13.4124 2019-03-11 23:00:00  \n",
       "20        floating  52.5015  13.4111 2019-03-11 09:00:00  "
      ]
     },
     "execution_count": 11,
     "metadata": {},
     "output_type": "execute_result"
    }
   ],
   "source": [
    "df = pd.read_pickle('all_trips.pkl')\n",
    "df['date_hour'] = df['trip_start_time'].dt.round('h') \n",
    "df.head()"
   ]
  },
  {
   "cell_type": "code",
   "execution_count": 63,
   "metadata": {},
   "outputs": [],
   "source": [
    "date_hour = sorted(df['date_hour'].unique())"
   ]
  },
  {
   "cell_type": "code",
   "execution_count": null,
   "metadata": {},
   "outputs": [],
   "source": [
    "path = (r\"C:\\Users\\steff\\Documents\\DataScience Bootcamp\\Bike\\maps_html\")\n",
    "for dh in date_hour: \n",
    "    dt = pd.to_datetime(dh)\n",
    "    st_h = (str(dt.date())+'_hh'+str(dt.hour))\n",
    "    bikemap = add_flexzone(make_base_map('bikemap'))\n",
    "    for index, row in df.iterrows():\n",
    "        if dt == row['date_hour']:\n",
    "                    folium.PolyLine(locations=\n",
    "                                    ([row['from_lat'] ,row['from_long']],\n",
    "                                     [row['to_lat'] ,  row['to_long']]),\n",
    "                                opacity = 0.5,\n",
    "                                color='blue',\n",
    "                                weight= 5                        \n",
    "                        ).add_to(bikemap)\n",
    "                    bikemap.save(path+f'\\map{st_h}.html')\n",
    "        else:\n",
    "            continue"
   ]
  },
  {
   "cell_type": "markdown",
   "metadata": {},
   "source": [
    "### making an  gif"
   ]
  },
  {
   "cell_type": "code",
   "execution_count": 162,
   "metadata": {
    "scrolled": true
   },
   "outputs": [
    {
     "data": {
      "text/plain": [
       "list"
      ]
     },
     "execution_count": 162,
     "metadata": {},
     "output_type": "execute_result"
    }
   ],
   "source": [
    "# get all html files\n",
    "path = (r\"C:\\Users\\steff\\Documents\\DataScience Bootcamp\\Bike\\maps_html\")\n",
    "allFiles = glob.glob(os.path.join(path,\"*.html\"))\n",
    "type(allFiles)"
   ]
  },
  {
   "cell_type": "code",
   "execution_count": 178,
   "metadata": {},
   "outputs": [],
   "source": [
    "# convert html to png\n",
    "driver = selenium.webdriver.PhantomJS()\n",
    "for f in allFiles:\n",
    "    driver.set_window_size(800, 600)  # choose a resolution\n",
    "    driver.get(r'maps_html/'+f[61:])\n",
    "    #print()\n",
    "    # You may need to add time.sleep(seconds) here\n",
    "    driver.save_screenshot(f'maps_png/map{f[61:-5]}.png')"
   ]
  },
  {
   "cell_type": "code",
   "execution_count": 182,
   "metadata": {},
   "outputs": [
    {
     "ename": "NameError",
     "evalue": "name 'images' is not defined",
     "output_type": "error",
     "traceback": [
      "\u001b[1;31m---------------------------------------------------------------------------\u001b[0m",
      "\u001b[1;31mNameError\u001b[0m                                 Traceback (most recent call last)",
      "\u001b[1;32m<ipython-input-182-75c417388b06>\u001b[0m in \u001b[0;36m<module>\u001b[1;34m\u001b[0m\n\u001b[0;32m      2\u001b[0m \u001b[1;32mfor\u001b[0m \u001b[0mf\u001b[0m \u001b[1;32min\u001b[0m \u001b[0mallFiles\u001b[0m\u001b[1;33m:\u001b[0m\u001b[1;33m\u001b[0m\u001b[1;33m\u001b[0m\u001b[0m\n\u001b[0;32m      3\u001b[0m     \u001b[0mfilename\u001b[0m \u001b[1;33m=\u001b[0m \u001b[0mf\u001b[0m\u001b[1;33m.\u001b[0m\u001b[0mformat\u001b[0m\u001b[1;33m(\u001b[0m\u001b[0mf\u001b[0m\u001b[1;33m)\u001b[0m\u001b[1;33m\u001b[0m\u001b[1;33m\u001b[0m\u001b[0m\n\u001b[1;32m----> 4\u001b[1;33m     \u001b[0mimages\u001b[0m\u001b[1;33m.\u001b[0m\u001b[0mappend\u001b[0m\u001b[1;33m(\u001b[0m\u001b[0mimageio\u001b[0m\u001b[1;33m.\u001b[0m\u001b[0mimread\u001b[0m\u001b[1;33m(\u001b[0m\u001b[1;34mf'myplot_{i}.png'\u001b[0m\u001b[1;33m)\u001b[0m\u001b[1;33m)\u001b[0m\u001b[1;33m\u001b[0m\u001b[1;33m\u001b[0m\u001b[0m\n\u001b[0m\u001b[0;32m      5\u001b[0m     \u001b[0mpic\u001b[0m\u001b[1;33m.\u001b[0m\u001b[0mappend\u001b[0m\u001b[1;33m(\u001b[0m\u001b[0mimageio\u001b[0m\u001b[1;33m.\u001b[0m\u001b[0mimread\u001b[0m\u001b[1;33m(\u001b[0m\u001b[0mf\u001b[0m\u001b[1;33m)\u001b[0m\u001b[1;33m)\u001b[0m\u001b[1;33m.\u001b[0m\u001b[0mformat\u001b[0m\u001b[1;33m(\u001b[0m\u001b[0mf\u001b[0m\u001b[1;33m)\u001b[0m\u001b[1;33m\u001b[0m\u001b[1;33m\u001b[0m\u001b[0m\n\u001b[0;32m      6\u001b[0m \u001b[0mimageio\u001b[0m\u001b[1;33m.\u001b[0m\u001b[0mmimsave\u001b[0m\u001b[1;33m(\u001b[0m\u001b[1;34m'nextbike_hours.gif'\u001b[0m\u001b[1;33m,\u001b[0m \u001b[0mimages\u001b[0m\u001b[1;33m,\u001b[0m \u001b[0mfps\u001b[0m\u001b[1;33m=\u001b[0m\u001b[1;36m20\u001b[0m\u001b[1;33m)\u001b[0m\u001b[1;33m\u001b[0m\u001b[1;33m\u001b[0m\u001b[0m\n",
      "\u001b[1;31mNameError\u001b[0m: name 'images' is not defined"
     ]
    }
   ],
   "source": [
    "pic = []\n",
    "for f in allFiles:\n",
    "    filename = f.format(f)\n",
    "    images.append(imageio.imread(f'myplot_{i}.png'))\n",
    "    pic.append(imageio.imread(f)).format(f)\n",
    "imageio.mimsave('nextbike_hours.gif', images, fps=20)"
   ]
  },
  {
   "cell_type": "code",
   "execution_count": 188,
   "metadata": {},
   "outputs": [],
   "source": [
    "png_dir = (r\"C:\\Users\\steff\\Documents\\DataScience Bootcamp\\Bike\\maps_png\\\\\")\n",
    "images = []\n",
    "for file_name in os.listdir(png_dir):\n",
    "    if file_name.endswith('.png'):\n",
    "        file_path = os.path.join(png_dir, file_name)\n",
    "        images.append(imageio.imread(file_path))\n",
    "imageio.mimsave(\"nextbike.gif\", images)"
   ]
  },
  {
   "cell_type": "code",
   "execution_count": null,
   "metadata": {},
   "outputs": [],
   "source": []
  }
 ],
 "metadata": {
  "kernelspec": {
   "display_name": "Python 3",
   "language": "python",
   "name": "python3"
  },
  "language_info": {
   "codemirror_mode": {
    "name": "ipython",
    "version": 3
   },
   "file_extension": ".py",
   "mimetype": "text/x-python",
   "name": "python",
   "nbconvert_exporter": "python",
   "pygments_lexer": "ipython3",
   "version": "3.6.7"
  }
 },
 "nbformat": 4,
 "nbformat_minor": 2
}
