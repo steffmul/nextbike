{
 "cells": [
  {
   "cell_type": "code",
   "execution_count": 110,
   "metadata": {},
   "outputs": [],
   "source": [
    "from weatherbit.api import Api\n",
    "import pandas as pd"
   ]
  },
  {
   "cell_type": "code",
   "execution_count": 111,
   "metadata": {},
   "outputs": [
    {
     "data": {
      "text/plain": [
       "\"\\n# To get a daily forecast of temperature, and precipitation:\\npd.DataFrame(forecast.get_series(['temp']))\""
      ]
     },
     "execution_count": 111,
     "metadata": {},
     "output_type": "execute_result"
    }
   ],
   "source": [
    "api_key = \"e8e380da5ad943a5a6d923b573db05f9\"\n",
    "lat = 52.510008\n",
    "lon = 13.404954\n",
    "\n",
    "api = Api(api_key)\n",
    "\n",
    "# Query by lat/lon\n",
    "forecast = api.get_forecast(lat=lat, lon=lon)\n",
    "#forecast = api.get_forecast(city=\"Berlin\", state=\"Berlin\", country=\"DE\")\n",
    "\"\"\"\n",
    "# To get a daily forecast of temperature, and precipitation:\n",
    "pd.DataFrame(forecast.get_series(['temp']))\"\"\""
   ]
  },
  {
   "cell_type": "code",
   "execution_count": 112,
   "metadata": {},
   "outputs": [],
   "source": [
    "from datetime import datetime\n",
    "from datetime import timedelta\n",
    "\n",
    "dates = pd.date_range(start='20190311', end='20190328', freq='D')\n",
    "df_dates =pd.DataFrame(dates, columns=['start'])\n",
    "df_dates['end'] = df_dates.shift(-1)\n",
    "dates = df_dates.values"
   ]
  },
  {
   "cell_type": "markdown",
   "metadata": {},
   "source": [
    "### Hourly"
   ]
  },
  {
   "cell_type": "code",
   "execution_count": 113,
   "metadata": {},
   "outputs": [],
   "source": [
    "hist_temp = []\n",
    "for st,en in dates[:-1]:\n",
    "    start = (st.astype(str)[0:10])\n",
    "    end = (en.astype(str)[0:10])\n",
    "    api.set_granularity('hourly')\n",
    "    data = api.get_history(lat=lat, lon=lon, \n",
    "                          start_date=start, end_date=end)\n",
    "    hist_temp.append(data)"
   ]
  },
  {
   "cell_type": "code",
   "execution_count": 114,
   "metadata": {},
   "outputs": [],
   "source": [
    "temp_lst = []\n",
    "liquid_precip_lst = []\n",
    "humidity_lst = []\n",
    "wind_spd_lst = []\n",
    "for h in hist_temp:\n",
    "    liquid_precip = h.get_series(['precip'])\n",
    "    temp = h.get_series(['temp'])\n",
    "    humidity  = h.get_series(['rh'])\n",
    "    wind_spd = h.get_series(['wind_spd'])\n",
    "    temp_lst += temp\n",
    "    liquid_precip_lst += liquid_precip\n",
    "    humidity_lst += humidity\n",
    "    wind_spd_lst += wind_spd"
   ]
  },
  {
   "cell_type": "code",
   "execution_count": 115,
   "metadata": {},
   "outputs": [
    {
     "data": {
      "text/plain": [
       "'Mitte'"
      ]
     },
     "execution_count": 115,
     "metadata": {},
     "output_type": "execute_result"
    }
   ],
   "source": [
    "data.city_name"
   ]
  },
  {
   "cell_type": "code",
   "execution_count": 116,
   "metadata": {},
   "outputs": [],
   "source": [
    "pd_t = pd.DataFrame(temp_lst)\n",
    "pd_l = pd.DataFrame(liquid_precip_lst)\n",
    "pd_h = pd.DataFrame(humidity_lst)\n",
    "pd_w = pd.DataFrame(wind_spd_lst)"
   ]
  },
  {
   "cell_type": "code",
   "execution_count": 117,
   "metadata": {},
   "outputs": [],
   "source": [
    "df = pd_t.merge(pd_l, on='datetime')\n",
    "df = df.merge(pd_h, on='datetime')\n",
    "df = df.merge(pd_w, on='datetime')"
   ]
  },
  {
   "cell_type": "code",
   "execution_count": 118,
   "metadata": {},
   "outputs": [],
   "source": [
    "df.to_pickle('weather_hourly.pkl')"
   ]
  },
  {
   "cell_type": "code",
   "execution_count": 119,
   "metadata": {},
   "outputs": [
    {
     "data": {
      "text/html": [
       "<div>\n",
       "<style scoped>\n",
       "    .dataframe tbody tr th:only-of-type {\n",
       "        vertical-align: middle;\n",
       "    }\n",
       "\n",
       "    .dataframe tbody tr th {\n",
       "        vertical-align: top;\n",
       "    }\n",
       "\n",
       "    .dataframe thead th {\n",
       "        text-align: right;\n",
       "    }\n",
       "</style>\n",
       "<table border=\"1\" class=\"dataframe\">\n",
       "  <thead>\n",
       "    <tr style=\"text-align: right;\">\n",
       "      <th></th>\n",
       "      <th>datetime</th>\n",
       "      <th>temp</th>\n",
       "      <th>precip</th>\n",
       "      <th>rh</th>\n",
       "      <th>wind_spd</th>\n",
       "    </tr>\n",
       "  </thead>\n",
       "  <tbody>\n",
       "    <tr>\n",
       "      <th>0</th>\n",
       "      <td>2019-03-11 00:00:00</td>\n",
       "      <td>3.0</td>\n",
       "      <td>0.0</td>\n",
       "      <td>91.0</td>\n",
       "      <td>8.75</td>\n",
       "    </tr>\n",
       "    <tr>\n",
       "      <th>1</th>\n",
       "      <td>2019-03-11 01:00:00</td>\n",
       "      <td>2.0</td>\n",
       "      <td>0.0</td>\n",
       "      <td>89.5</td>\n",
       "      <td>7.95</td>\n",
       "    </tr>\n",
       "    <tr>\n",
       "      <th>2</th>\n",
       "      <td>2019-03-11 02:00:00</td>\n",
       "      <td>2.0</td>\n",
       "      <td>0.0</td>\n",
       "      <td>89.0</td>\n",
       "      <td>9.05</td>\n",
       "    </tr>\n",
       "    <tr>\n",
       "      <th>3</th>\n",
       "      <td>2019-03-11 03:00:00</td>\n",
       "      <td>1.5</td>\n",
       "      <td>0.0</td>\n",
       "      <td>87.0</td>\n",
       "      <td>7.20</td>\n",
       "    </tr>\n",
       "    <tr>\n",
       "      <th>4</th>\n",
       "      <td>2019-03-11 04:00:00</td>\n",
       "      <td>2.0</td>\n",
       "      <td>0.0</td>\n",
       "      <td>91.0</td>\n",
       "      <td>5.95</td>\n",
       "    </tr>\n",
       "  </tbody>\n",
       "</table>\n",
       "</div>"
      ],
      "text/plain": [
       "             datetime  temp  precip    rh  wind_spd\n",
       "0 2019-03-11 00:00:00   3.0     0.0  91.0      8.75\n",
       "1 2019-03-11 01:00:00   2.0     0.0  89.5      7.95\n",
       "2 2019-03-11 02:00:00   2.0     0.0  89.0      9.05\n",
       "3 2019-03-11 03:00:00   1.5     0.0  87.0      7.20\n",
       "4 2019-03-11 04:00:00   2.0     0.0  91.0      5.95"
      ]
     },
     "execution_count": 119,
     "metadata": {},
     "output_type": "execute_result"
    }
   ],
   "source": [
    "df.head()"
   ]
  },
  {
   "cell_type": "markdown",
   "metadata": {},
   "source": [
    "### Daily"
   ]
  },
  {
   "cell_type": "code",
   "execution_count": 120,
   "metadata": {},
   "outputs": [],
   "source": [
    "hist_temp_d = []\n",
    "for st,en in dates[:-1]:\n",
    "    start = (st.astype(str)[0:10])\n",
    "    end = (en.astype(str)[0:10])\n",
    "    api.set_granularity('daily')\n",
    "    data = api.get_history(lat=lat, lon=lon, \n",
    "                          start_date=start, end_date=end)\n",
    "    hist_temp_d.append(data)"
   ]
  },
  {
   "cell_type": "code",
   "execution_count": 121,
   "metadata": {},
   "outputs": [],
   "source": [
    "temp_lst = []\n",
    "liquid_precip_lst = []\n",
    "humidity_lst = []\n",
    "wind_spd_lst = []\n",
    "for h in hist_temp_d:\n",
    "    liquid_precip = h.get_series(['precip'])\n",
    "    temp = h.get_series(['temp'])\n",
    "    humidity  = h.get_series(['rh'])\n",
    "    wind_spd = h.get_series(['wind_spd'])\n",
    "    temp_lst += temp\n",
    "    liquid_precip_lst += liquid_precip\n",
    "    humidity_lst += humidity\n",
    "    wind_spd_lst += wind_spd"
   ]
  },
  {
   "cell_type": "code",
   "execution_count": 122,
   "metadata": {},
   "outputs": [],
   "source": [
    "pd_t = pd.DataFrame(temp_lst)\n",
    "pd_l = pd.DataFrame(liquid_precip_lst)\n",
    "pd_h = pd.DataFrame(humidity_lst)\n",
    "pd_w = pd.DataFrame(wind_spd_lst)"
   ]
  },
  {
   "cell_type": "code",
   "execution_count": 123,
   "metadata": {},
   "outputs": [],
   "source": [
    "df_d = pd_t.merge(pd_l, on='datetime')\n",
    "df_d = df_d.merge(pd_h, on='datetime')\n",
    "df_d = df_d.merge(pd_w, on='datetime')"
   ]
  },
  {
   "cell_type": "code",
   "execution_count": 124,
   "metadata": {},
   "outputs": [],
   "source": [
    "df_d.to_pickle('weather_daily.pkl')"
   ]
  },
  {
   "cell_type": "code",
   "execution_count": 125,
   "metadata": {},
   "outputs": [
    {
     "data": {
      "text/html": [
       "<div>\n",
       "<style scoped>\n",
       "    .dataframe tbody tr th:only-of-type {\n",
       "        vertical-align: middle;\n",
       "    }\n",
       "\n",
       "    .dataframe tbody tr th {\n",
       "        vertical-align: top;\n",
       "    }\n",
       "\n",
       "    .dataframe thead th {\n",
       "        text-align: right;\n",
       "    }\n",
       "</style>\n",
       "<table border=\"1\" class=\"dataframe\">\n",
       "  <thead>\n",
       "    <tr style=\"text-align: right;\">\n",
       "      <th></th>\n",
       "      <th>datetime</th>\n",
       "      <th>temp</th>\n",
       "      <th>precip</th>\n",
       "      <th>rh</th>\n",
       "      <th>wind_spd</th>\n",
       "    </tr>\n",
       "  </thead>\n",
       "  <tbody>\n",
       "    <tr>\n",
       "      <th>0</th>\n",
       "      <td>2019-03-11</td>\n",
       "      <td>3.2</td>\n",
       "      <td>9.2</td>\n",
       "      <td>81.0</td>\n",
       "      <td>6.3</td>\n",
       "    </tr>\n",
       "    <tr>\n",
       "      <th>1</th>\n",
       "      <td>2019-03-12</td>\n",
       "      <td>5.5</td>\n",
       "      <td>0.9</td>\n",
       "      <td>73.8</td>\n",
       "      <td>6.2</td>\n",
       "    </tr>\n",
       "    <tr>\n",
       "      <th>2</th>\n",
       "      <td>2019-03-13</td>\n",
       "      <td>6.9</td>\n",
       "      <td>0.8</td>\n",
       "      <td>59.0</td>\n",
       "      <td>7.7</td>\n",
       "    </tr>\n",
       "    <tr>\n",
       "      <th>3</th>\n",
       "      <td>2019-03-14</td>\n",
       "      <td>5.8</td>\n",
       "      <td>6.2</td>\n",
       "      <td>81.4</td>\n",
       "      <td>7.9</td>\n",
       "    </tr>\n",
       "    <tr>\n",
       "      <th>4</th>\n",
       "      <td>2019-03-15</td>\n",
       "      <td>7.6</td>\n",
       "      <td>5.2</td>\n",
       "      <td>74.3</td>\n",
       "      <td>8.6</td>\n",
       "    </tr>\n",
       "  </tbody>\n",
       "</table>\n",
       "</div>"
      ],
      "text/plain": [
       "    datetime  temp  precip    rh  wind_spd\n",
       "0 2019-03-11   3.2     9.2  81.0       6.3\n",
       "1 2019-03-12   5.5     0.9  73.8       6.2\n",
       "2 2019-03-13   6.9     0.8  59.0       7.7\n",
       "3 2019-03-14   5.8     6.2  81.4       7.9\n",
       "4 2019-03-15   7.6     5.2  74.3       8.6"
      ]
     },
     "execution_count": 125,
     "metadata": {},
     "output_type": "execute_result"
    }
   ],
   "source": [
    "df_d.head()"
   ]
  },
  {
   "cell_type": "code",
   "execution_count": null,
   "metadata": {},
   "outputs": [],
   "source": []
  }
 ],
 "metadata": {
  "kernelspec": {
   "display_name": "Python 3",
   "language": "python",
   "name": "python3"
  },
  "language_info": {
   "codemirror_mode": {
    "name": "ipython",
    "version": 3
   },
   "file_extension": ".py",
   "mimetype": "text/x-python",
   "name": "python",
   "nbconvert_exporter": "python",
   "pygments_lexer": "ipython3",
   "version": "3.6.7"
  }
 },
 "nbformat": 4,
 "nbformat_minor": 2
}
